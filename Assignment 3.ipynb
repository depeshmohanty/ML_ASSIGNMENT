{
 "cells": [
  {
   "cell_type": "markdown",
   "metadata": {},
   "source": [
    "1.Explain the term machine learning, and how does it work? Explain two machine learning\n",
    "applications in the business world. What are some of the ethical concerns that machine learning\n",
    "applications could raise?"
   ]
  },
  {
   "cell_type": "raw",
   "metadata": {},
   "source": [
    "Machine learning is a method of data analysis that automates analytical model building. It is a branch of artificial \n",
    "intelligence based on the idea that systems can learn from data, identify patterns and make decisions with minimal human \n",
    "intervention.\n",
    "Machine Learning in finance helps in portfolio management, algorithmic trading, loan underwriting, and fraud detection. \n",
    "However, future applications of Machine Learning in finance will include Chatbots and other conversational interfaces for \n",
    "security, customer service, and sentiment analysis."
   ]
  },
  {
   "cell_type": "markdown",
   "metadata": {},
   "source": [
    "2. Describe the process of human learning:\n",
    "i. Under the supervision of experts\n",
    "\n",
    "ii. With the assistance of experts in an indirect manner\n",
    "\n",
    "iii. Self-education"
   ]
  },
  {
   "cell_type": "raw",
   "metadata": {},
   "source": [
    "Human learning is a process of acquiring knowledge. Our behavior, skills, values and ethics are acquired when we process \n",
    "information through our minds and learn. Human learning may occur as part of education, personal development or any other \n",
    "informal/formal training. Children learn while they play, experiment, and interact. However, the process of learning is a \n",
    "continuous process.\n",
    "when we see a dog and attach the term 'dog', we learn that the word dog refers to a particular animal.\n",
    "different forms are motor learning , verbal learning, concept learning, discrimination learning, problem solving,attitude \n",
    "learning.\n",
    "As a human we tend to learn every time continuosly.As in ML model machine try to learn from past data and sometimes also without\n",
    "any past labelled data as in unsupervised model, exactly like that human also sometimes learn without past data, also learns with past\n",
    "experience as ml model does in reinforcement learning.\n",
    "\n",
    "i. Under the supervision of experts:- in this process of human learning , human learns under a supervision similarly like supervised\n",
    "    machine learning techniques.\n",
    "ii. With the assistance of experts in an indirect manner :- a process in which learners initiate and advance their learning\n",
    "    guided by more experienced partners and socially derived sources, such as tools, text, and/or other artifacts. This process\n",
    "    of learning is seen as being distinct from didactic instruction comprising unidirectional interaction between more and less \n",
    "    knowledgeable interlocutors, as in teaching. In contrast, the direction and process of guided learning is premised more on \n",
    "    the learners’ intentions, capacity, and agency, albeit being guided by social partners and norms and forms.    \n",
    "iii. Self-education :- its all about learning on own."
   ]
  },
  {
   "cell_type": "markdown",
   "metadata": {},
   "source": [
    "3. Provide a few examples of various types of machine learning."
   ]
  },
  {
   "cell_type": "raw",
   "metadata": {},
   "source": [
    "The types of machine learning algorithms are mainly divided into four categories: Supervised learning, \n",
    "Un-supervised learning, Semi-supervised learning, and Reinforcement learning"
   ]
  },
  {
   "cell_type": "markdown",
   "metadata": {},
   "source": [
    "4. Examine the various forms of machine learning."
   ]
  },
  {
   "cell_type": "raw",
   "metadata": {},
   "source": [
    "Example of Supervised Learning Algorithms:  \n",
    "\n",
    "Linear Regression\n",
    "Nearest Neighbor\n",
    "Gaussian Naive Bayes\n",
    "Decision Trees\n",
    "Support Vector Machine (SVM)\n",
    "Random Forest\n",
    "\n",
    "Example of UnSupervised Learning Algorithms:  \n",
    "\n",
    "K-Means Clustering\n",
    "DBSCAN – Density-Based Spatial Clustering of Applications with Noise\n",
    "BIRCH – Balanced Iterative Reducing and Clustering using Hierarchies\n",
    "Hierarchical Clustering"
   ]
  },
  {
   "cell_type": "markdown",
   "metadata": {},
   "source": [
    "6. Is machine learning capable of solving all problems? Give a detailed explanation of your answer"
   ]
  },
  {
   "cell_type": "raw",
   "metadata": {},
   "source": [
    "ML Can't Solve Everything. Here Are 5 Challenges That It Still Faces\n",
    "Reasoning Power. One area where ML has not mastered successfully is reasoning power, a distinctly human trait. ...\n",
    "Contextual Limitation. ...\n",
    "Scalability. ...\n",
    "Regulatory Restriction For Data In ML. ...\n",
    "Internal Working Of Deep Learning."
   ]
  },
  {
   "cell_type": "markdown",
   "metadata": {},
   "source": [
    "7. What are the various methods and technologies for solving machine learning problems?"
   ]
  },
  {
   "cell_type": "raw",
   "metadata": {},
   "source": [
    "methods are Linear regression , classification , clustering"
   ]
  },
  {
   "cell_type": "markdown",
   "metadata": {},
   "source": [
    "8. Can you explain the various forms of supervised learning? Explain each one with an example application."
   ]
  },
  {
   "cell_type": "raw",
   "metadata": {},
   "source": [
    "Supervised Learning – You supervise the learning process, meaning the data that you have collected here is labelled and\n",
    "so you know what input needs to be mapped to what output. This helps you correct your algorithm if it makes a mistake in giving\n",
    "you the answer\n",
    "Supervised Learning has been broadly classified into 2 types.\n",
    "\n",
    "Regression\n",
    "Classification\n",
    "\n",
    "Regression is the kind of Supervised Learning that learns from the Labelled Datasets and is then able to predict a \n",
    "continuous-valued output for the new data given to the algorithm. It is used whenever the output required is a number such as\n",
    "money or height etc. Some popular Supervised Learning algorithms are discussed below"
   ]
  },
  {
   "cell_type": "markdown",
   "metadata": {},
   "source": [
    "9. What is the difference between supervised and unsupervised learning? With a sample application in each region, explain the \n",
    "differences"
   ]
  },
  {
   "cell_type": "raw",
   "metadata": {},
   "source": [
    "Supervised learning algorithms are trained using labeled data. Unsupervised learning algorithms are trained\n",
    "using unlabeled data. Supervised learning model takes direct feedback to check if it is predicting correct output or not. \n",
    "Unsupervised learning model does not take any feedback."
   ]
  },
  {
   "cell_type": "code",
   "execution_count": null,
   "metadata": {},
   "outputs": [],
   "source": []
  }
 ],
 "metadata": {
  "kernelspec": {
   "display_name": "Python 3",
   "language": "python",
   "name": "python3"
  },
  "language_info": {
   "codemirror_mode": {
    "name": "ipython",
    "version": 3
   },
   "file_extension": ".py",
   "mimetype": "text/x-python",
   "name": "python",
   "nbconvert_exporter": "python",
   "pygments_lexer": "ipython3",
   "version": "3.7.4"
  }
 },
 "nbformat": 4,
 "nbformat_minor": 4
}
