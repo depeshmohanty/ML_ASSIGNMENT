{
 "cells": [
  {
   "cell_type": "markdown",
   "metadata": {},
   "source": [
    "1. What are the key tasks that machine learning entails? What does data pre-processing imply?"
   ]
  },
  {
   "cell_type": "raw",
   "metadata": {},
   "source": [
    "Data preprocessing in Machine Learning refers to the technique of preparing (cleaning and organizing) the raw data to make it \n",
    "suitable for a building and training Machine Learning models."
   ]
  },
  {
   "cell_type": "markdown",
   "metadata": {},
   "source": [
    "2. Describe quantitative and qualitative data in depth. Make a distinction between the two."
   ]
  },
  {
   "cell_type": "raw",
   "metadata": {},
   "source": [
    "Quantitative data is anything that can be counted or measured; it refers to numerical data. Qualitative data is descriptive, referring to things that can be observed but not measured—such as colors or emotions"
   ]
  },
  {
   "cell_type": "markdown",
   "metadata": {},
   "source": [
    "4. What are the various causes of machine learning data issues? What are the ramifications?"
   ]
  },
  {
   "cell_type": "raw",
   "metadata": {},
   "source": [
    "1) Understanding Which Processes Need Automation.\n",
    "2) Lack of Quality Data.\n",
    "3) Inadequate Infrastructure.\n",
    "4) Implementation.\n",
    "5) Lack of Skilled Resources."
   ]
  },
  {
   "cell_type": "markdown",
   "metadata": {},
   "source": [
    "5. Demonstrate various approaches to categorical data exploration with appropriate examples."
   ]
  },
  {
   "cell_type": "raw",
   "metadata": {},
   "source": [
    "Frequency tables, pie charts, and bar charts are the most appropriate graphical displays for categorical variables."
   ]
  },
  {
   "cell_type": "markdown",
   "metadata": {},
   "source": [
    "6. How would the learning activity be affected if certain variables have missing values? Having said that, what can be done about it?"
   ]
  },
  {
   "cell_type": "raw",
   "metadata": {},
   "source": [
    "Missing data present various problems. First, the absence of data reduces statistical power, which refers to the probability that the test will reject the null hypothesis when it is false. Second, the lost data can cause bias in the estimation of parameters. Third, it can reduce the representativeness of the samples."
   ]
  },
  {
   "cell_type": "markdown",
   "metadata": {},
   "source": [
    "7. Describe the various methods for dealing with missing data values in depth."
   ]
  },
  {
   "cell_type": "raw",
   "metadata": {},
   "source": [
    "Mean or Median Imputation. When data is missing at random, we can use list-wise or pair-wise deletion of the missing observations. ...\n",
    "Multivariate Imputation by Chained Equations (MICE) MICE assumes that the missing data are Missing at Random (MAR). ...\n",
    "Random Forest."
   ]
  },
  {
   "cell_type": "markdown",
   "metadata": {},
   "source": [
    "8. What are the various data pre-processing techniques? Explain dimensionality reduction and function selection in a few words"
   ]
  },
  {
   "cell_type": "raw",
   "metadata": {},
   "source": [
    "Data Cleaning/Cleansing. Cleaning “dirty” data. Real-world data tend to be incomplete, noisy, and inconsistent. ...\n",
    "Data Integration. Combining data from multiple sources.\n",
    "Data Transformation. Constructing data cube.\n",
    "Data Reduction. Reducing representation of data set."
   ]
  },
  {
   "cell_type": "markdown",
   "metadata": {},
   "source": [
    "9.\n",
    "\n",
    "                i. What is the IQR? What criteria are used to assess it?\n",
    "\n",
    "                 ii. Describe the various components of a box plot in detail? When will the lower whisker    surpass the upper whisker in length? How can box plots be used to identify outliers?\n"
   ]
  },
  {
   "cell_type": "raw",
   "metadata": {},
   "source": [
    "The interquartile range (IQR) measures the spread of the middle half of your data. It is the range for the middle 50% of your sample. Use the IQR to assess the variability where most of your values lie. Larger values indicate that the central portion of your data spread out further.\n",
    "\n",
    "A box and whisker plot—also called a box plot—displays the five-number summary of a set of data. The five-number summary is the minimum, first quartile, median, third quartile, and maximum. In a box plot, we draw a box from the first quartile to the third quartile."
   ]
  },
  {
   "cell_type": "markdown",
   "metadata": {},
   "source": [
    "2. Histogram and box plot"
   ]
  },
  {
   "cell_type": "raw",
   "metadata": {},
   "source": [
    "Both histograms and box plots are used to explore and present the data in an easy and understandable manner. ... They are less detailed than histograms and take up less space. Although histograms are better in displaying the distribution of data, you can use a box plot to tell if the distribution is symmetric or skewed"
   ]
  },
  {
   "cell_type": "code",
   "execution_count": null,
   "metadata": {},
   "outputs": [],
   "source": []
  }
 ],
 "metadata": {
  "kernelspec": {
   "display_name": "Python 3",
   "language": "python",
   "name": "python3"
  },
  "language_info": {
   "codemirror_mode": {
    "name": "ipython",
    "version": 3
   },
   "file_extension": ".py",
   "mimetype": "text/x-python",
   "name": "python",
   "nbconvert_exporter": "python",
   "pygments_lexer": "ipython3",
   "version": "3.7.4"
  }
 },
 "nbformat": 4,
 "nbformat_minor": 4
}
