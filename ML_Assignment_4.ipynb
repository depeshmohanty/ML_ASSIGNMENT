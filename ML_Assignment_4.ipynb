{
 "cells": [
  {
   "cell_type": "markdown",
   "metadata": {},
   "source": [
    "1. What are the key tasks involved in getting ready to work with machine learning modeling?"
   ]
  },
  {
   "cell_type": "raw",
   "metadata": {},
   "source": [
    "The 7 Key Steps To Build Your Machine Learning Model\n",
    "Step 1: Collect Data. ...\n",
    "Step 2: Prepare the data. ...\n",
    "Step 3: Choose the model. ...\n",
    "Step 4 Train your machine model. ...\n",
    "Step 5: Evaluation. ...\n",
    "Step 6: Parameter Tuning. ...\n",
    "Step 7: Prediction or Inference."
   ]
  },
  {
   "cell_type": "markdown",
   "metadata": {},
   "source": [
    "2. What are the different forms of data used in machine learning? Give a specific example for each of them."
   ]
  },
  {
   "cell_type": "raw",
   "metadata": {},
   "source": [
    "Most data can be categorized into 4 basic types from a Machine Learning perspective: numerical data, categorical data, \n",
    "time-series data, and text."
   ]
  },
  {
   "cell_type": "markdown",
   "metadata": {},
   "source": [
    "3. Distinguish:\n",
    "\n",
    "           1. Numeric vs. categorical attributes\n",
    "\n",
    "            2. Feature selection vs. dimensionality reduction\n"
   ]
  },
  {
   "cell_type": "markdown",
   "metadata": {},
   "source": [
    "1. Numeric vs. categorical attributes::::\n",
    "                \n",
    "Categorical data refers to a data type that can be stored and identified based on the names or labels given to them. \n",
    "Numerical data refers to the data that is in the form of numbers, and not in any language or descriptive form. Also known as \n",
    "qualitative data as it qualifies data before classifying it.\n",
    "\n",
    "2. Feature selection vs. dimensionality reduction\n",
    "\n",
    "While both methods are used for reducing the number of features in a dataset, there is an important difference. \n",
    "Feature selection is simply selecting and excluding given features without changing them. Dimensionality reduction transforms \n",
    "features into a lower dimension."
   ]
  },
  {
   "cell_type": "markdown",
   "metadata": {},
   "source": [
    "4. Make quick notes on any two of the following:\n",
    "\n",
    "            1. The histogram\n",
    "\n",
    "             2. Use a scatter plot\n"
   ]
  },
  {
   "cell_type": "raw",
   "metadata": {},
   "source": [
    " 1. The histogram\n",
    "\n",
    "    \n",
    "A histogram is used for showing the frequencies of different data. It is the graphical representation of data where the data \n",
    "is grouped into continuous number ranges and each range corresponds to a vertical bar.\n",
    "\n",
    "2. Use a scatter plot\n",
    "\n",
    "Scatter plots' primary uses are to observe and show relationships between two numeric variables. The dots in a scatter plot not \n",
    "only report the values of individual data points, but also patterns when the data are taken as a whole.A scatter plot can also \n",
    "be useful for identifying other patterns in data."
   ]
  },
  {
   "cell_type": "markdown",
   "metadata": {},
   "source": [
    "5. Why is it necessary to investigate data? Is there a discrepancy in how qualitative and quantitative data are explored?"
   ]
  },
  {
   "cell_type": "raw",
   "metadata": {},
   "source": [
    "Using a combination of qualitative and quantitative data can improve an evaluation by ensuring that the limitations of one \n",
    "type of data are balanced by the strengths of another. This will ensure that understanding is improved by integrating different\n",
    "ways of knowing."
   ]
  },
  {
   "cell_type": "markdown",
   "metadata": {},
   "source": [
    "6. What are the various histogram shapes? What exactly are ‘bins'?"
   ]
  },
  {
   "cell_type": "raw",
   "metadata": {},
   "source": [
    "Bell-shaped\n",
    "Bimodal\n",
    "right skewed\n",
    "left skewed\n",
    "uniform\n",
    "random"
   ]
  },
  {
   "cell_type": "markdown",
   "metadata": {},
   "source": [
    "7. How do we deal with data outliers?"
   ]
  },
  {
   "cell_type": "raw",
   "metadata": {},
   "source": [
    "Sort the dataset in ascending order.\n",
    "calculate the 1st and 3rd quartiles(Q1, Q3)\n",
    "compute IQR=Q3-Q1.\n",
    "compute lower bound = (Q1–1.5*IQR), upper bound = (Q3+1.5*IQR)\n",
    "loop through the values of the dataset and check for those who fall below the lower bound and above the upper bound and mark them as outliers."
   ]
  },
  {
   "cell_type": "markdown",
   "metadata": {},
   "source": [
    "9. Describe how a scatter plot can be used to investigate bivariate relationships. Is it possible to find outliers using a\n",
    "scatter plot?"
   ]
  },
  {
   "cell_type": "raw",
   "metadata": {},
   "source": [
    "A scatterplot is a useful summary of a set of bivariate data (two variables), usually drawn before working out a \n",
    "linear correlation coefficient or fitting a regression line. The resulting pattern indicates the type and strength of the \n",
    "relationship between the two variables.\n",
    "Yes."
   ]
  },
  {
   "cell_type": "code",
   "execution_count": null,
   "metadata": {},
   "outputs": [],
   "source": []
  }
 ],
 "metadata": {
  "kernelspec": {
   "display_name": "Python 3",
   "language": "python",
   "name": "python3"
  },
  "language_info": {
   "codemirror_mode": {
    "name": "ipython",
    "version": 3
   },
   "file_extension": ".py",
   "mimetype": "text/x-python",
   "name": "python",
   "nbconvert_exporter": "python",
   "pygments_lexer": "ipython3",
   "version": "3.7.4"
  }
 },
 "nbformat": 4,
 "nbformat_minor": 4
}
