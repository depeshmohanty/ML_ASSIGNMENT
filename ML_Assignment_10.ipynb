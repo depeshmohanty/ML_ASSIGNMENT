{
 "cells": [
  {
   "cell_type": "markdown",
   "metadata": {},
   "source": [
    "1.\tDefine the Bayesian interpretation of probability."
   ]
  },
  {
   "cell_type": "raw",
   "metadata": {},
   "source": [
    "Bayesian probability is an interpretation of the concept of probability, in which, instead of frequency or propensity of some phenomenon, probability is interpreted as reasonable expectation representing a state of knowledge or as quantification of a personal belief."
   ]
  },
  {
   "cell_type": "markdown",
   "metadata": {},
   "source": [
    "2.\tDefine probability of a union of two events with equation."
   ]
  },
  {
   "cell_type": "raw",
   "metadata": {},
   "source": [
    "The probability of the union of two events E and F (written E ∪ F \\displaystyle E\\cup F E∪F ) equals the sum of the probability of E and the probability of F minus the probability of E and F occurring together ( which is called the intersection of E and F and is written as E ∩ F \\displaystyle E\\cap F E∩F )"
   ]
  },
  {
   "cell_type": "markdown",
   "metadata": {},
   "source": [
    "3.\tWhat is joint probability? What is its formula?"
   ]
  },
  {
   "cell_type": "raw",
   "metadata": {},
   "source": [
    "Joint Probability Formula\n",
    "If the probability of rolling a six on one die is P(X) and the probability of rolling a six on the second die P(Y), we can use the formula P(X,Y) = P(X) * P(Y) . Since the dice have six sides, and the probability of any side coming up is equal, P(X) and P(Y) both equal 1/6"
   ]
  },
  {
   "cell_type": "markdown",
   "metadata": {},
   "source": [
    "4.\tWhat is chain rule of probability?"
   ]
  },
  {
   "cell_type": "raw",
   "metadata": {},
   "source": [
    "In probability theory, the chain rule (also called the general product rule) permits the calculation of any member of the joint distribution of a set of random variables using only conditional probabilities."
   ]
  },
  {
   "cell_type": "markdown",
   "metadata": {},
   "source": [
    "5.\tWhat is conditional probability means? What is the formula of it?"
   ]
  },
  {
   "cell_type": "raw",
   "metadata": {},
   "source": [
    "Conditional probability is defined as the likelihood of an event or outcome occurring, based on the occurrence of a previous event or outcome. Conditional probability is calculated by multiplying the probability of the preceding event by the updated probability of the succeeding, or conditional, event."
   ]
  },
  {
   "cell_type": "markdown",
   "metadata": {},
   "source": [
    "6.\tWhat are continuous random variables?"
   ]
  },
  {
   "cell_type": "raw",
   "metadata": {},
   "source": [
    "If an experiment can result in an infinite, non-countable number of outcomes, then the random variable defined can be “continuous”. Whenever the value of a random variable is measured rather than counted, a continuous random variable is defined."
   ]
  },
  {
   "cell_type": "markdown",
   "metadata": {},
   "source": [
    "7.\tWhat are Bernoulli distributions? What is the formula of it?"
   ]
  },
  {
   "cell_type": "raw",
   "metadata": {},
   "source": [
    "Bernoulli distribution is a discrete probability distribution where the Bernoulli random variable can have only 0 or 1 as the outcome. p is the probability of success and 1 - p is the probability of failure. The mean of a Bernoulli distribution is E[X] = p and the variance, Var[X] = p(1-p)."
   ]
  },
  {
   "cell_type": "markdown",
   "metadata": {},
   "source": [
    "8.\tWhat is binomial distribution? What is the formula?"
   ]
  },
  {
   "cell_type": "raw",
   "metadata": {},
   "source": [
    "A single success/failure experiment is also called a Bernoulli trial or Bernoulli experiment, and a sequence of outcomes is called a Bernoulli process; for a single trial, i.e., n = 1, the binomial distribution is a Bernoulli distribution."
   ]
  },
  {
   "cell_type": "markdown",
   "metadata": {},
   "source": [
    "9.\tWhat is Poisson distribution? What is the formula?"
   ]
  },
  {
   "cell_type": "raw",
   "metadata": {},
   "source": [
    "In statistics, a Poisson distribution is a probability distribution that is used to show how many times an event is likely to occur over a specified period. ... Poisson distributions are often used to understand independent events that occur at a constant rate within a given interval of time."
   ]
  },
  {
   "cell_type": "markdown",
   "metadata": {},
   "source": [
    "10.\tDefine covariance."
   ]
  },
  {
   "cell_type": "raw",
   "metadata": {},
   "source": [
    "Covariance is a measure of how much two random variables vary together. It's similar to variance, but where variance tells you how a single variable varies, co variance tells you how two variables vary together"
   ]
  },
  {
   "cell_type": "code",
   "execution_count": null,
   "metadata": {},
   "outputs": [],
   "source": []
  }
 ],
 "metadata": {
  "kernelspec": {
   "display_name": "Python 3",
   "language": "python",
   "name": "python3"
  },
  "language_info": {
   "codemirror_mode": {
    "name": "ipython",
    "version": 3
   },
   "file_extension": ".py",
   "mimetype": "text/x-python",
   "name": "python",
   "nbconvert_exporter": "python",
   "pygments_lexer": "ipython3",
   "version": "3.7.4"
  }
 },
 "nbformat": 4,
 "nbformat_minor": 4
}
